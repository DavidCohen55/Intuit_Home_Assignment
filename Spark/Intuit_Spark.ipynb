{
  "nbformat": 4,
  "nbformat_minor": 0,
  "metadata": {
    "colab": {
      "provenance": []
    },
    "kernelspec": {
      "name": "python3",
      "display_name": "Python 3"
    },
    "language_info": {
      "name": "python"
    }
  },
  "cells": [
    {
      "cell_type": "markdown",
      "source": [
        "### Pip install commands"
      ],
      "metadata": {
        "id": "LbVhC0mY754C"
      }
    },
    {
      "cell_type": "code",
      "execution_count": 1,
      "metadata": {
        "colab": {
          "base_uri": "https://localhost:8080/"
        },
        "id": "ls26Y-NM1CrK",
        "outputId": "9e805256-5ad6-4b74-d653-242028a22559"
      },
      "outputs": [
        {
          "output_type": "stream",
          "name": "stdout",
          "text": [
            "Requirement already satisfied: pyspark in /usr/local/lib/python3.10/dist-packages (3.5.0)\n",
            "Requirement already satisfied: py4j==0.10.9.7 in /usr/local/lib/python3.10/dist-packages (from pyspark) (0.10.9.7)\n",
            "Traceback (most recent call last):\n",
            "  File \"/usr/local/lib/python3.10/dist-packages/pip/_vendor/pkg_resources/__init__.py\", line 3108, in _dep_map\n",
            "    return self.__dep_map\n",
            "  File \"/usr/local/lib/python3.10/dist-packages/pip/_vendor/pkg_resources/__init__.py\", line 2901, in __getattr__\n",
            "    raise AttributeError(attr)\n",
            "AttributeError: _DistInfoDistribution__dep_map\n",
            "\n",
            "During handling of the above exception, another exception occurred:\n",
            "\n",
            "Traceback (most recent call last):\n",
            "  File \"/usr/local/lib/python3.10/dist-packages/pip/_internal/cli/base_command.py\", line 169, in exc_logging_wrapper\n",
            "    status = run_func(*args)\n",
            "  File \"/usr/local/lib/python3.10/dist-packages/pip/_internal/cli/req_command.py\", line 242, in wrapper\n",
            "    return func(self, options, args)\n",
            "  File \"/usr/local/lib/python3.10/dist-packages/pip/_internal/commands/install.py\", line 441, in run\n",
            "    conflicts = self._determine_conflicts(to_install)\n",
            "  File \"/usr/local/lib/python3.10/dist-packages/pip/_internal/commands/install.py\", line 572, in _determine_conflicts\n",
            "    return check_install_conflicts(to_install)\n",
            "  File \"/usr/local/lib/python3.10/dist-packages/pip/_internal/operations/check.py\", line 101, in check_install_conflicts\n",
            "    package_set, _ = create_package_set_from_installed()\n",
            "  File \"/usr/local/lib/python3.10/dist-packages/pip/_internal/operations/check.py\", line 42, in create_package_set_from_installed\n",
            "    dependencies = list(dist.iter_dependencies())\n",
            "  File \"/usr/local/lib/python3.10/dist-packages/pip/_internal/metadata/pkg_resources.py\", line 216, in iter_dependencies\n",
            "    return self._dist.requires(extras)\n",
            "  File \"/usr/local/lib/python3.10/dist-packages/pip/_vendor/pkg_resources/__init__.py\", line 2821, in requires\n",
            "    dm = self._dep_map\n",
            "  File \"/usr/local/lib/python3.10/dist-packages/pip/_vendor/pkg_resources/__init__.py\", line 3110, in _dep_map\n",
            "    self.__dep_map = self._compute_dependencies()\n",
            "  File \"/usr/local/lib/python3.10/dist-packages/pip/_vendor/pkg_resources/__init__.py\", line 3132, in _compute_dependencies\n",
            "    dm[s_extra] = [r for r in reqs_for_extra(extra) if r not in common]\n",
            "  File \"/usr/local/lib/python3.10/dist-packages/pip/_vendor/pkg_resources/__init__.py\", line 3132, in <listcomp>\n",
            "    dm[s_extra] = [r for r in reqs_for_extra(extra) if r not in common]\n",
            "  File \"/usr/local/lib/python3.10/dist-packages/pip/_vendor/pkg_resources/__init__.py\", line 3124, in reqs_for_extra\n",
            "    if not req.marker or req.marker.evaluate({'extra': extra}):\n",
            "  File \"/usr/local/lib/python3.10/dist-packages/pip/_vendor/packaging/markers.py\", line 304, in evaluate\n",
            "    return _evaluate_markers(self._markers, current_environment)\n",
            "  File \"/usr/local/lib/python3.10/dist-packages/pip/_vendor/packaging/markers.py\", line 240, in _evaluate_markers\n",
            "    groups[-1].append(_eval_op(lhs_value, op, rhs_value))\n",
            "  File \"/usr/local/lib/python3.10/dist-packages/pip/_vendor/packaging/markers.py\", line 197, in _eval_op\n",
            "    oper: Optional[Operator] = _operators.get(op.serialize())\n",
            "  File \"/usr/local/lib/python3.10/dist-packages/pip/_vendor/packaging/markers.py\", line 81, in serialize\n",
            "    return str(self)\n",
            "  File \"/usr/local/lib/python3.10/dist-packages/pip/_vendor/packaging/markers.py\", line 60, in __str__\n",
            "    return str(self.value)\n",
            "KeyboardInterrupt\n",
            "\n",
            "During handling of the above exception, another exception occurred:\n",
            "\n",
            "Traceback (most recent call last):\n",
            "  File \"/usr/local/bin/pip3\", line 8, in <module>\n",
            "    sys.exit(main())\n",
            "  File \"/usr/local/lib/python3.10/dist-packages/pip/_internal/cli/main.py\", line 79, in main\n",
            "    return command.main(cmd_args)\n",
            "  File \"/usr/local/lib/python3.10/dist-packages/pip/_internal/cli/base_command.py\", line 101, in main\n",
            "    return self._main(args)\n",
            "  File \"/usr/local/lib/python3.10/dist-packages/pip/_internal/cli/base_command.py\", line 223, in _main\n",
            "    return run(options, args)\n",
            "  File \"/usr/local/lib/python3.10/dist-packages/pip/_internal/cli/base_command.py\", line 206, in exc_logging_wrapper\n",
            "    logger.critical(\"Operation cancelled by user\")\n",
            "  File \"/usr/lib/python3.10/logging/__init__.py\", line 1524, in critical\n",
            "    self._log(CRITICAL, msg, args, **kwargs)\n",
            "  File \"/usr/lib/python3.10/logging/__init__.py\", line 1624, in _log\n",
            "    self.handle(record)\n",
            "  File \"/usr/lib/python3.10/logging/__init__.py\", line 1634, in handle\n",
            "    self.callHandlers(record)\n",
            "  File \"/usr/lib/python3.10/logging/__init__.py\", line 1696, in callHandlers\n",
            "    hdlr.handle(record)\n",
            "  File \"/usr/lib/python3.10/logging/__init__.py\", line 968, in handle\n",
            "    self.emit(record)\n",
            "  File \"/usr/local/lib/python3.10/dist-packages/pip/_internal/utils/logging.py\", line 177, in emit\n",
            "    self.console.print(renderable, overflow=\"ignore\", crop=False, style=style)\n",
            "  File \"/usr/local/lib/python3.10/dist-packages/pip/_vendor/rich/console.py\", line 1683, in print\n",
            "    render_options = self.options.update(\n",
            "  File \"/usr/local/lib/python3.10/dist-packages/pip/_vendor/rich/console.py\", line 981, in options\n",
            "    max_height=self.size.height,\n",
            "  File \"/usr/local/lib/python3.10/dist-packages/pip/_vendor/rich/console.py\", line 1031, in size\n",
            "    return ConsoleDimensions(\n",
            "  File \"<string>\", line 1, in <lambda>\n",
            "KeyboardInterrupt\n",
            "^C\n",
            "^C\n",
            "Requirement already satisfied: cryptography==38.0.3 in /usr/local/lib/python3.10/dist-packages (38.0.3)\n",
            "Requirement already satisfied: cffi>=1.12 in /usr/local/lib/python3.10/dist-packages (from cryptography==38.0.3) (1.16.0)\n",
            "Requirement already satisfied: pycparser in /usr/local/lib/python3.10/dist-packages (from cffi>=1.12->cryptography==38.0.3) (2.21)\n",
            "Requirement already satisfied: findspark in /usr/local/lib/python3.10/dist-packages (2.0.1)\n"
          ]
        }
      ],
      "source": [
        "!pip install pyspark\n",
        "!apt-get install openjdk-8-jdk-headless -qq > /dev/null\n",
        "\n",
        "!wget -q https://archive.apache.org/dist/spark/spark-3.1.2/spark-3.1.2-bin-hadoop2.7.tgz\n",
        "!tar xf spark-3.1.2-bin-hadoop2.7.tgz\n",
        "\n",
        "!pip install cryptography==38.0.3\n",
        "!pip install findspark"
      ]
    },
    {
      "cell_type": "markdown",
      "source": [
        "### Init Environment"
      ],
      "metadata": {
        "id": "mqec0Oc574Ja"
      }
    },
    {
      "cell_type": "code",
      "source": [
        "import os\n",
        "\n",
        "os.environ[\"JAVA_HOME\"] = \"/usr/lib/jvm/java-8-openjdk-amd64\"\n",
        "os.environ[\"SPARK_HOME\"] = \"/content/spark-3.1.2-bin-hadoop2.7\""
      ],
      "metadata": {
        "id": "U5gx_tfU1XCh"
      },
      "execution_count": 2,
      "outputs": []
    },
    {
      "cell_type": "code",
      "source": [
        "import findspark\n",
        "findspark.init()"
      ],
      "metadata": {
        "id": "V5Ro4y4g1jbQ"
      },
      "execution_count": 3,
      "outputs": []
    },
    {
      "cell_type": "code",
      "source": [
        "from pyspark.sql import SparkSession\n",
        "spark = SparkSession.builder.appName(\"example\").getOrCreate()"
      ],
      "metadata": {
        "id": "0-IeSAO91oDK"
      },
      "execution_count": 4,
      "outputs": []
    },
    {
      "cell_type": "markdown",
      "source": [
        "### Load Parquet File"
      ],
      "metadata": {
        "id": "KPl9A80a7mMf"
      }
    },
    {
      "cell_type": "code",
      "source": [
        "payments = spark.read.parquet(\"payments-input.snappy.parquet\")"
      ],
      "metadata": {
        "id": "7nffoQ7Z17o0"
      },
      "execution_count": 17,
      "outputs": []
    },
    {
      "cell_type": "code",
      "source": [
        "payments.schema"
      ],
      "metadata": {
        "colab": {
          "base_uri": "https://localhost:8080/"
        },
        "id": "YUvkTZFM3XyY",
        "outputId": "ba793d5d-77da-4d50-8e63-b33045298633"
      },
      "execution_count": 18,
      "outputs": [
        {
          "output_type": "execute_result",
          "data": {
            "text/plain": [
              "StructType(List(StructField(date,TimestampType,true),StructField(currency,StringType,true),StructField(amount,DoubleType,true),StructField(encoded_user_id,BinaryType,true)))"
            ]
          },
          "metadata": {},
          "execution_count": 18
        }
      ]
    },
    {
      "cell_type": "code",
      "source": [
        "payments.show()"
      ],
      "metadata": {
        "colab": {
          "base_uri": "https://localhost:8080/"
        },
        "id": "tvj0qthY9SsS",
        "outputId": "daa047d2-ed23-47e0-f672-5fca58cd9969"
      },
      "execution_count": 19,
      "outputs": [
        {
          "output_type": "stream",
          "name": "stdout",
          "text": [
            "+-------------------+--------+------+--------------------+\n",
            "|               date|currency|amount|     encoded_user_id|\n",
            "+-------------------+--------+------+--------------------+\n",
            "|2022-10-16 15:00:00|     ILS|1000.0|[67 41 41 41 41 4...|\n",
            "|2022-10-16 15:00:00|     ILS|  13.5|[67 41 41 41 41 4...|\n",
            "|2022-10-04 15:00:00|     EUR| 120.0|[67 41 41 41 41 4...|\n",
            "|2022-10-04 15:00:00|     USD|  10.0|[67 41 41 41 41 4...|\n",
            "|2022-10-22 15:00:00|     EUR|   9.0|[67 41 41 41 41 4...|\n",
            "|2022-10-09 15:00:00|     USD|   1.0|[67 41 41 41 41 4...|\n",
            "|2022-10-22 15:00:00|     EUR| 244.0|[67 41 41 41 41 4...|\n",
            "|2022-10-09 15:00:00|     USD| 200.0|[67 41 41 41 41 4...|\n",
            "|2022-10-16 15:00:00|     USD| 378.0|[67 41 41 41 41 4...|\n",
            "|2022-10-04 15:00:00|     ILS|  11.0|[67 41 41 41 41 4...|\n",
            "+-------------------+--------+------+--------------------+\n",
            "\n"
          ]
        }
      ]
    },
    {
      "cell_type": "markdown",
      "source": [
        "## 1. Show Currencies Sum\n",
        "Show the total sum amount for each currency."
      ],
      "metadata": {
        "id": "I1JWoT-L8BYB"
      }
    },
    {
      "cell_type": "code",
      "source": [
        "from pyspark.sql.types import DecimalType\n",
        "from pyspark.sql.functions import col, sum\n",
        "\n",
        "payments = payments.withColumn('amount', col('amount').cast(DecimalType(10, 2)))\n",
        "\n",
        "total_amount_per_currency = payments\\\n",
        "  .groupBy('currency')\\\n",
        "  .agg(sum('amount'))\\\n",
        "  .alias('total_amount')\n",
        "\n",
        "total_amount_per_currency.show()"
      ],
      "metadata": {
        "colab": {
          "base_uri": "https://localhost:8080/"
        },
        "id": "JnydeGUJ28qX",
        "outputId": "1ace356b-b230-4c59-b8a0-2834e29d126d"
      },
      "execution_count": 20,
      "outputs": [
        {
          "output_type": "stream",
          "name": "stdout",
          "text": [
            "+--------+-----------+\n",
            "|currency|sum(amount)|\n",
            "+--------+-----------+\n",
            "|     EUR|     373.00|\n",
            "|     ILS|    1024.50|\n",
            "|     USD|     589.00|\n",
            "+--------+-----------+\n",
            "\n"
          ]
        }
      ]
    },
    {
      "cell_type": "markdown",
      "source": [
        "## 2. Exchange rates for every currency to ILS\n",
        "Create a DataFrame of exchange rates for every currency to ILS, and use it to add a new column to the payments table, named amount_in_ils.\n"
      ],
      "metadata": {
        "id": "iEAeHdzs8I7g"
      }
    },
    {
      "cell_type": "code",
      "source": [
        "exchange_rates = spark.createDataFrame([(\"ILS\", 1.0), (\"USD\", 3.2), (\"EUR\", 3.8)], [\"currency\", \"exchange_rate\"])\n",
        "\n",
        "payments_with_ils = payments\\\n",
        "  .join(exchange_rates, 'currency')\\\n",
        "  .withColumn('amount_in_ils', col('amount') * col('exchange_rate'))\\\n",
        "  .drop(\"exchange_rate\")\n",
        "\n",
        "payments_with_ils.show()"
      ],
      "metadata": {
        "colab": {
          "base_uri": "https://localhost:8080/"
        },
        "id": "kZTkvcDs5SFO",
        "outputId": "91e97411-522a-46a4-a823-3e751d97bb46"
      },
      "execution_count": 21,
      "outputs": [
        {
          "output_type": "stream",
          "name": "stdout",
          "text": [
            "+--------+-------------------+-------+--------------------+------------------+\n",
            "|currency|               date| amount|     encoded_user_id|     amount_in_ils|\n",
            "+--------+-------------------+-------+--------------------+------------------+\n",
            "|     ILS|2022-10-04 15:00:00|  11.00|[67 41 41 41 41 4...|              11.0|\n",
            "|     ILS|2022-10-16 15:00:00|  13.50|[67 41 41 41 41 4...|              13.5|\n",
            "|     ILS|2022-10-16 15:00:00|1000.00|[67 41 41 41 41 4...|            1000.0|\n",
            "|     USD|2022-10-16 15:00:00| 378.00|[67 41 41 41 41 4...|1209.6000000000001|\n",
            "|     USD|2022-10-09 15:00:00| 200.00|[67 41 41 41 41 4...|             640.0|\n",
            "|     USD|2022-10-09 15:00:00|   1.00|[67 41 41 41 41 4...|               3.2|\n",
            "|     USD|2022-10-04 15:00:00|  10.00|[67 41 41 41 41 4...|              32.0|\n",
            "|     EUR|2022-10-22 15:00:00| 244.00|[67 41 41 41 41 4...| 927.1999999999999|\n",
            "|     EUR|2022-10-22 15:00:00|   9.00|[67 41 41 41 41 4...|34.199999999999996|\n",
            "|     EUR|2022-10-04 15:00:00| 120.00|[67 41 41 41 41 4...|             456.0|\n",
            "+--------+-------------------+-------+--------------------+------------------+\n",
            "\n"
          ]
        }
      ]
    },
    {
      "cell_type": "markdown",
      "source": [
        "## 3. Decrypt `encoded_user_id` column\n",
        "Use the function below to decrypt the values in the encoded_user_id column.\n"
      ],
      "metadata": {
        "id": "OMON9W7S8YOj"
      }
    },
    {
      "cell_type": "code",
      "source": [
        "from cryptography.fernet import Fernet\n",
        "from pyspark.sql.functions import udf\n",
        "from pyspark.sql.types import StringType\n",
        "\n",
        "def decode(encoded_used_id: bytes) -> str:\n",
        "    key = b'CuTaE-KQM5MOZkExifXvfssUzXxU4TtNQyiggxCh8G8='\n",
        "    used_id: str = Fernet(key).decrypt(encoded_used_id.decode()).decode()\n",
        "    return used_id\n",
        "\n",
        "decode_udf = udf(decode, StringType())\n",
        "payments_decoded = payments\\\n",
        "  .withColumn(\"decoded_user_id\", decode_udf(\"encoded_user_id\"))\\\n",
        "  .drop(\"encoded_user_id\")\n",
        "\n",
        "payments_decoded.show()"
      ],
      "metadata": {
        "colab": {
          "base_uri": "https://localhost:8080/"
        },
        "id": "09k4PLxv65Kc",
        "outputId": "840bb172-3bdc-4c40-f626-2497e1b41b67"
      },
      "execution_count": 22,
      "outputs": [
        {
          "output_type": "stream",
          "name": "stdout",
          "text": [
            "+-------------------+--------+-------+----------------+\n",
            "|               date|currency| amount| decoded_user_id|\n",
            "+-------------------+--------+-------+----------------+\n",
            "|2022-10-16 15:00:00|     ILS|1000.00| Osnat Haj Yahia|\n",
            "|2022-10-16 15:00:00|     ILS|  13.50|Michael Livshits|\n",
            "|2022-10-04 15:00:00|     EUR| 120.00|      Uri Shohet|\n",
            "|2022-10-04 15:00:00|     USD|  10.00|       Dana Assa|\n",
            "|2022-10-22 15:00:00|     EUR|   9.00|       Dana Assa|\n",
            "|2022-10-09 15:00:00|     USD|   1.00|         Tom Mor|\n",
            "|2022-10-22 15:00:00|     EUR| 244.00|    Hersh Shefer|\n",
            "|2022-10-09 15:00:00|     USD| 200.00|       Sagi Vegh|\n",
            "|2022-10-16 15:00:00|     USD| 378.00|Dmitry Burshtein|\n",
            "|2022-10-04 15:00:00|     ILS|  11.00|     Itay Granik|\n",
            "+-------------------+--------+-------+----------------+\n",
            "\n"
          ]
        }
      ]
    }
  ]
}